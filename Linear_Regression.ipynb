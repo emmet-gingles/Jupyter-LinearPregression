{
 "cells": [
  {
   "cell_type": "code",
   "execution_count": 1,
   "metadata": {
    "collapsed": false
   },
   "outputs": [
    {
     "data": {
      "image/png": "[encoded data removed]",
      "text/plain": [
       "<matplotlib.figure.Figure at 0x5cce350>"
      ]
     },
     "metadata": {},
     "output_type": "display_data"
    }
   ],
   "source": [
    "%matplotlib inline\n",
    "import pandas as pd\n",
    "import numpy as np\n",
    "import matplotlib.pyplot as plt\n",
    "x = [0,1,2,3,4]\n",
    "y = [2,4,6,8,10]\n",
    "plt.plot(x,y,marker='+')\n",
    "plt.show()"
   ]
  },
  {
   "cell_type": "code",
   "execution_count": 2,
   "metadata": {
    "collapsed": false
   },
   "outputs": [
    {
     "name": "stdout",
     "output_type": "stream",
     "text": [
      "(3, 4)\n",
      "(2, 3)\n"
     ]
    },
    {
     "data": {
      "image/png": "[encoded data removed]",
      "text/plain": [
       "<matplotlib.figure.Figure at 0x75344d0>"
      ]
     },
     "metadata": {},
     "output_type": "display_data"
    }
   ],
   "source": [
    "def getY(m,c,x):\n",
    "    return (m * x) + c\n",
    "\n",
    "m = 1\n",
    "x1 = 3\n",
    "y1 = getY(m,1,x1)\n",
    "print(x1,y1)\n",
    "x2 = 2\n",
    "y2 = getY(m,1,x2)\n",
    "print(x2,y2)\n",
    "plt.plot([x1,x2],[y1,y2])\n",
    "plt.show()"
   ]
  },
  {
   "cell_type": "code",
   "execution_count": 3,
   "metadata": {
    "collapsed": false
   },
   "outputs": [
    {
     "name": "stdout",
     "output_type": "stream",
     "text": [
      "6.0\n",
      "8.66666666667\n"
     ]
    }
   ],
   "source": [
    "def getSquaredError(ylist):\n",
    "    size = len(ylist)\n",
    "    total = 0  \n",
    "    for i in range(1,size):\n",
    "        diff = (ylist[i]-ylist[i-1])**2\n",
    "        total += diff\n",
    "    mean = float(total)/size\n",
    "    return mean\n",
    "      \n",
    "ylist = [3,6,9]\n",
    "ylist2 = [2,1,6]\n",
    "print(getSquaredError(ylist))\n",
    "print(getSquaredError(ylist2))"
   ]
  },
  {
   "cell_type": "code",
   "execution_count": 4,
   "metadata": {
    "collapsed": false
   },
   "outputs": [
    {
     "name": "stdout",
     "output_type": "stream",
     "text": [
      "0.000729217572357\n"
     ]
    }
   ],
   "source": [
    "import random\n",
    "n = 1\n",
    "while n <= 100:\n",
    "    rand = random.random()\n",
    "    if rand < m:\n",
    "        m = rand \n",
    "    n = n + 1\n",
    "print(m)"
   ]
  },
  {
   "cell_type": "code",
   "execution_count": 5,
   "metadata": {
    "collapsed": false
   },
   "outputs": [
    {
     "name": "stdout",
     "output_type": "stream",
     "text": [
      "(1, 1.0007292175723568)\n",
      "(2, 1.0014584351447136)\n"
     ]
    },
    {
     "data": {
      "image/png": "[encoded data removed]",
      "text/plain": [
       "<matplotlib.figure.Figure at 0x75256d0>"
      ]
     },
     "metadata": {},
     "output_type": "display_data"
    }
   ],
   "source": [
    "x = 1\n",
    "y = getY(m,1,x)\n",
    "print(x,y)\n",
    "x2 = 2\n",
    "y2 = getY(m,1,x2)\n",
    "print(x2,y2)\n",
    "plt.plot([x,x2],[y,y2],marker='+')\n",
    "plt.show()"
   ]
  },
  {
   "cell_type": "code",
   "execution_count": 6,
   "metadata": {
    "collapsed": false
   },
   "outputs": [
    {
     "name": "stdout",
     "output_type": "stream",
     "text": [
      "[(1, 4), (2, 5), (3, 6)]\n",
      "(3, 6)\n",
      "3\n"
     ]
    }
   ],
   "source": [
    "xlist = [1,2,3]\n",
    "ylist = [4,5,6]\n",
    "zipped = zip(xlist, ylist)\n",
    "print(zipped)\n",
    "print(zipped[2])\n",
    "print(zipped[2][0])"
   ]
  }
 ],
 "metadata": {
  "anaconda-cloud": {},
  "kernelspec": {
   "display_name": "Python [Root]",
   "language": "python",
   "name": "Python [Root]"
  },
  "language_info": {
   "codemirror_mode": {
    "name": "ipython",
    "version": 2
   },
   "file_extension": ".py",
   "mimetype": "text/x-python",
   "name": "python",
   "nbconvert_exporter": "python",
   "pygments_lexer": "ipython2",
   "version": "2.7.12"
  }
 },
 "nbformat": 4,
 "nbformat_minor": 0
}
